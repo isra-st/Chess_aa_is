{
 "cells": [
  {
   "cell_type": "code",
   "execution_count": 45,
   "metadata": {},
   "outputs": [],
   "source": [
    "# Import Libraries\n",
    "#System\n",
    "import os \n",
    "\n",
    "#Data Transformation and Modelling\n",
    "import pandas as pd\n",
    "import numpy as np\n",
    "from scipy import stats\n",
    "import statsmodels.api as sm\n",
    "import datetime as dt\n",
    "\n",
    "#Visualization\n",
    "import matplotlib\n",
    "import matplotlib.pyplot as plt\n",
    "import matplotlib.colors as colors\n",
    "from pandas.plotting import scatter_matrix\n",
    "import seaborn as sns\n",
    "from IPython.display import set_matplotlib_formats, HTML\n",
    "from matplotlib.dates import DateFormatter\n",
    "from pandas.plotting import register_matplotlib_converters\n",
    "register_matplotlib_converters()\n",
    "from matplotlib import colors as mcolors\n",
    "from pandas.plotting import register_matplotlib_converters\n",
    "import plotly.express as px\n",
    "%matplotlib inline\n",
    "%config InlineBackend.figure_format = 'png'"
   ]
  },
  {
   "cell_type": "code",
   "execution_count": 46,
   "metadata": {},
   "outputs": [
    {
     "name": "stderr",
     "output_type": "stream",
     "text": [
      "C:\\Users\\ssai\\AppData\\Local\\Temp\\ipykernel_32672\\1646155909.py:5: DeprecationWarning: `set_matplotlib_formats` is deprecated since IPython 7.23, directly use `matplotlib_inline.backend_inline.set_matplotlib_formats()`\n",
      "  set_matplotlib_formats('retina')\n"
     ]
    }
   ],
   "source": [
    "# Formating Plots\n",
    "# default styles\n",
    "def set_sns_format(width=14, height=8):\n",
    "    sns.set_theme(palette='pastel', context='notebook',rc={'savefig.dpi':300})\n",
    "    set_matplotlib_formats('retina')\n",
    "    matplotlib.rcParams['figure.figsize'] = (width, height)\n",
    "    return None\n",
    "set_sns_format(width=14, height=8)"
   ]
  },
  {
   "cell_type": "code",
   "execution_count": 47,
   "metadata": {},
   "outputs": [],
   "source": [
    "# Adding  datapoints values to line or bar plots\n",
    "\n",
    "def add_value_labels(ax, typ, spacing=5):\n",
    "    #This function add the labels in the bar and line plots\n",
    "    #input the ax to add the labels, the type of plot\n",
    "    \n",
    "    space = spacing\n",
    "    va = 'bottom'\n",
    "    \n",
    "\n",
    "    if typ == 'bar':\n",
    "        for i in ax.patches:\n",
    "            y_value = i.get_height()\n",
    "            x_value = i.get_x() + i.get_width() / 2\n",
    "\n",
    "            label = \"{:.0f}\".format(y_value)\n",
    "            ax.annotate(label,(x_value, y_value), xytext=(0, space), \n",
    "                    textcoords=\"offset points\", ha='center', va=va, fontsize=10)     \n",
    "    if typ == 'line':\n",
    "        line = ax.lines[0]\n",
    "        for x_value, y_value in zip(line.get_xdata(), line.get_ydata()):\n",
    "            label = \"{:.0f}\".format(y_value)\n",
    "            ax.annotate(label,(x_value, y_value), xytext=(0, space), \n",
    "                textcoords=\"offset points\", ha='center', va=va)"
   ]
  },
  {
   "cell_type": "code",
   "execution_count": 48,
   "metadata": {},
   "outputs": [],
   "source": [
    "# Load Dataset\n",
    "df = pd.read_csv('c:\\\\Users\\\\ssai\\\\OneDrive\\\\Data_26-07\\\\Project_0_1\\\\archive\\\\games.csv')"
   ]
  },
  {
   "cell_type": "code",
   "execution_count": 50,
   "metadata": {},
   "outputs": [
    {
     "data": {
      "text/plain": [
       "(20058, 16)"
      ]
     },
     "execution_count": 50,
     "metadata": {},
     "output_type": "execute_result"
    }
   ],
   "source": [
    "df.shape"
   ]
  },
  {
   "cell_type": "code",
   "execution_count": 51,
   "metadata": {},
   "outputs": [
    {
     "name": "stdout",
     "output_type": "stream",
     "text": [
      "<class 'pandas.core.frame.DataFrame'>\n",
      "RangeIndex: 20058 entries, 0 to 20057\n",
      "Data columns (total 16 columns):\n",
      " #   Column          Non-Null Count  Dtype  \n",
      "---  ------          --------------  -----  \n",
      " 0   id              20058 non-null  object \n",
      " 1   rated           20058 non-null  bool   \n",
      " 2   created_at      20058 non-null  float64\n",
      " 3   last_move_at    20058 non-null  float64\n",
      " 4   turns           20058 non-null  int64  \n",
      " 5   victory_status  20058 non-null  object \n",
      " 6   winner          20058 non-null  object \n",
      " 7   increment_code  20058 non-null  object \n",
      " 8   white_id        20058 non-null  object \n",
      " 9   white_rating    20058 non-null  int64  \n",
      " 10  black_id        20058 non-null  object \n",
      " 11  black_rating    20058 non-null  int64  \n",
      " 12  moves           20058 non-null  object \n",
      " 13  opening_eco     20058 non-null  object \n",
      " 14  opening_name    20058 non-null  object \n",
      " 15  opening_ply     20058 non-null  int64  \n",
      "dtypes: bool(1), float64(2), int64(4), object(9)\n",
      "memory usage: 2.3+ MB\n"
     ]
    }
   ],
   "source": [
    "df.info()"
   ]
  },
  {
   "cell_type": "code",
   "execution_count": 61,
   "metadata": {},
   "outputs": [
    {
     "data": {
      "text/plain": [
       "0         15+2\n",
       "1         5+10\n",
       "2         5+10\n",
       "3         20+0\n",
       "4         30+3\n",
       "         ...  \n",
       "20053    10+10\n",
       "20054     10+0\n",
       "20055     10+0\n",
       "20056     10+0\n",
       "20057     10+0\n",
       "Name: increment_code, Length: 20058, dtype: object"
      ]
     },
     "execution_count": 61,
     "metadata": {},
     "output_type": "execute_result"
    }
   ],
   "source": [
    "df['increment_code']"
   ]
  },
  {
   "cell_type": "code",
   "execution_count": 63,
   "metadata": {},
   "outputs": [
    {
     "data": {
      "text/plain": [
       "Van't Kruijs Opening                                              368\n",
       "Sicilian Defense                                                  358\n",
       "Sicilian Defense: Bowdler Attack                                  296\n",
       "Scotch Game                                                       271\n",
       "French Defense: Knight Variation                                  271\n",
       "                                                                 ... \n",
       "Sicilian Defense: Kupreichik Variation                              1\n",
       "Modern Defense: Lizard Defense |  Mittenberger Gambit               1\n",
       "French Defense: Rubinstein Variation |  Kasparov Attack             1\n",
       "French Defense: Tarrasch Variation |  Open System |  Main Line      1\n",
       "Sicilian Defense: Najdorf Variation |  Polugaevsky Variation        1\n",
       "Name: opening_name, Length: 1477, dtype: int64"
      ]
     },
     "execution_count": 63,
     "metadata": {},
     "output_type": "execute_result"
    }
   ],
   "source": [
    "df['opening_name'].value_counts()"
   ]
  },
  {
   "cell_type": "code",
   "execution_count": 55,
   "metadata": {},
   "outputs": [
    {
     "data": {
      "text/plain": [
       "id                0\n",
       "rated             0\n",
       "created_at        0\n",
       "last_move_at      0\n",
       "turns             0\n",
       "victory_status    0\n",
       "winner            0\n",
       "increment_code    0\n",
       "white_id          0\n",
       "white_rating      0\n",
       "black_id          0\n",
       "black_rating      0\n",
       "moves             0\n",
       "opening_eco       0\n",
       "opening_name      0\n",
       "opening_ply       0\n",
       "dtype: int64"
      ]
     },
     "execution_count": 55,
     "metadata": {},
     "output_type": "execute_result"
    }
   ],
   "source": [
    "df.isnull().sum()"
   ]
  },
  {
   "cell_type": "code",
   "execution_count": 56,
   "metadata": {},
   "outputs": [
    {
     "data": {
      "text/plain": [
       "white    10001\n",
       "black     9107\n",
       "draw       950\n",
       "Name: winner, dtype: int64"
      ]
     },
     "execution_count": 56,
     "metadata": {},
     "output_type": "execute_result"
    }
   ],
   "source": [
    "df['winner'].value_counts()"
   ]
  },
  {
   "cell_type": "code",
   "execution_count": 59,
   "metadata": {},
   "outputs": [
    {
     "data": {
      "text/plain": [
       "taranga          72\n",
       "chess-brahs      53\n",
       "a_p_t_e_m_u_u    49\n",
       "ssf7             48\n",
       "bleda            48\n",
       "                 ..\n",
       "gw22              1\n",
       "shiftas           1\n",
       "juiz_moro         1\n",
       "messiosousa       1\n",
       "marcodisogno      1\n",
       "Name: white_id, Length: 9438, dtype: int64"
      ]
     },
     "execution_count": 59,
     "metadata": {},
     "output_type": "execute_result"
    }
   ],
   "source": [
    "df['white_id'].value_counts()\n"
   ]
  },
  {
   "cell_type": "code",
   "execution_count": 60,
   "metadata": {},
   "outputs": [
    {
     "data": {
      "text/plain": [
       "taranga               82\n",
       "vladimir-kramnik-1    60\n",
       "a_p_t_e_m_u_u         47\n",
       "docboss               44\n",
       "king5891              44\n",
       "                      ..\n",
       "cm0911                 1\n",
       "harland                1\n",
       "wansilence             1\n",
       "grooveman              1\n",
       "ffbob                  1\n",
       "Name: black_id, Length: 9331, dtype: int64"
      ]
     },
     "execution_count": 60,
     "metadata": {},
     "output_type": "execute_result"
    }
   ],
   "source": [
    "df['black_id'].value_counts()"
   ]
  },
  {
   "cell_type": "code",
   "execution_count": 65,
   "metadata": {},
   "outputs": [
    {
     "data": {
      "text/plain": [
       "0        1.504210e+12\n",
       "1        1.504130e+12\n",
       "2        1.504130e+12\n",
       "3        1.504110e+12\n",
       "4        1.504030e+12\n",
       "             ...     \n",
       "20053    1.499791e+12\n",
       "20054    1.499698e+12\n",
       "20055    1.499698e+12\n",
       "20056    1.499696e+12\n",
       "20057    1.499643e+12\n",
       "Name: created_at, Length: 20058, dtype: float64"
      ]
     },
     "execution_count": 65,
     "metadata": {},
     "output_type": "execute_result"
    }
   ],
   "source": [
    "df['created_at']"
   ]
  },
  {
   "cell_type": "code",
   "execution_count": null,
   "metadata": {},
   "outputs": [],
   "source": [
    "\n",
    "This should work.\n",
    "\n",
    "#Split your string to extract timestamp, I am assuming a single space between each float\n",
    "op = \"28.359062 69.693673 5.204486e+08\"\n",
    "ts = float(op.split()[2])\n",
    "\n",
    "from datetime import datetime\n",
    "#Timestamp to datetime object\n",
    "dt = datetime.fromtimestamp(ts)\n",
    "#Datetime object to string\n",
    "dt_str = dt.strftime('%m-%B-%Y')\n",
    "print(dt_str)\n",
    "#06-June-1986"
   ]
  },
  {
   "cell_type": "code",
   "execution_count": 68,
   "metadata": {},
   "outputs": [
    {
     "data": {
      "text/plain": [
       "A00    1007\n",
       "C00     844\n",
       "D00     739\n",
       "B01     716\n",
       "C41     691\n",
       "       ... \n",
       "A33       1\n",
       "D22       1\n",
       "E44       1\n",
       "B58       1\n",
       "D19       1\n",
       "Name: opening_eco, Length: 365, dtype: int64"
      ]
     },
     "execution_count": 68,
     "metadata": {},
     "output_type": "execute_result"
    }
   ],
   "source": [
    "df['opening_eco'].value_counts()"
   ]
  },
  {
   "cell_type": "code",
   "execution_count": 66,
   "metadata": {},
   "outputs": [
    {
     "data": {
      "text/plain": [
       "'e4 e5 d3 d6 Be3 c6 Be2 b5 Nd2 a5 a4 c5 axb5 Nc6 bxc6 Ra6 Nc4 a4 c3 a3 Nxa3 Rxa3 Rxa3 c4 dxc4 d5 cxd5 Qxd5 exd5 Be6 Ra8+ Ke7 Bc5+ Kf6 Bxf8 Kg6 Bxg7 Kxg7 dxe6 Kh6 exf7 Nf6 Rxh8 Nh5 Bxh5 Kg5 Rxh7 Kf5 Qf3+ Ke6 Bg4+ Kd6 Rh6+ Kc5 Qe3+ Kb5 c4+ Kb4 Qc3+ Ka4 Bd1#'"
      ]
     },
     "execution_count": 66,
     "metadata": {},
     "output_type": "execute_result"
    }
   ],
   "source": [
    "df.iloc[2]['moves']"
   ]
  },
  {
   "cell_type": "code",
   "execution_count": 71,
   "metadata": {},
   "outputs": [
    {
     "data": {
      "text/plain": [
       "opening_name\n",
       "Alekhine Defense                        2\n",
       "Alekhine Defense #2                     1\n",
       "Alekhine Defense #3                     1\n",
       "Alekhine Defense: Balogh Variation      1\n",
       "Alekhine Defense: Brooklyn Variation    1\n",
       "                                       ..\n",
       "Zukertort Opening: Slav Invitation      1\n",
       "Zukertort Opening: Tennison Gambit      1\n",
       "Zukertort Opening: The Walrus           1\n",
       "Zukertort Opening: Vos Gambit           1\n",
       "Zukertort Opening: Wade Defense         1\n",
       "Name: opening_ply, Length: 1477, dtype: int64"
      ]
     },
     "execution_count": 71,
     "metadata": {},
     "output_type": "execute_result"
    }
   ],
   "source": [
    "df.groupby('opening_name')['opening_ply']"
   ]
  },
  {
   "cell_type": "code",
   "execution_count": null,
   "metadata": {},
   "outputs": [],
   "source": []
  }
 ],
 "metadata": {
  "kernelspec": {
   "display_name": "Python 3.9.12 64-bit",
   "language": "python",
   "name": "python3"
  },
  "language_info": {
   "codemirror_mode": {
    "name": "ipython",
    "version": 3
   },
   "file_extension": ".py",
   "mimetype": "text/x-python",
   "name": "python",
   "nbconvert_exporter": "python",
   "pygments_lexer": "ipython3",
   "version": "3.9.12"
  },
  "orig_nbformat": 4,
  "vscode": {
   "interpreter": {
    "hash": "ad2bdc8ecc057115af97d19610ffacc2b4e99fae6737bb82f5d7fb13d2f2c186"
   }
  }
 },
 "nbformat": 4,
 "nbformat_minor": 2
}
